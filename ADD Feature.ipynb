{
 "cells": [
  {
   "cell_type": "code",
   "execution_count": null,
   "metadata": {},
   "outputs": [],
   "source": [
    "# Import necessary libraries\n",
    "from selenium import webdriver\n",
    "from selenium.webdriver.chrome.service import Service as ChromeService\n",
    "from webdriver_manager.chrome import ChromeDriverManager\n",
    "from selenium.webdriver.common.by import By\n",
    "from selenium.webdriver.common.keys import Keys\n",
    "from selenium.webdriver.common.action_chains import ActionChains\n",
    "from bs4 import BeautifulSoup\n",
    "import pandas as pd\n",
    "import time"
   ]
  },
  {
   "cell_type": "code",
   "execution_count": null,
   "metadata": {},
   "outputs": [],
   "source": [
    "# Set up Chrome WebDriver with options\n",
    "options = webdriver.ChromeOptions()\n",
    "options.add_experimental_option(\"detach\", True)\n",
    "driver = webdriver.Chrome(service=ChromeService(ChromeDriverManager().install()), options=options)"
   ]
  },
  {
   "cell_type": "code",
   "execution_count": null,
   "metadata": {},
   "outputs": [],
   "source": [
    "# Define YouTube channel URL\n",
    "url = \"https://www.youtube.com/@PCBuilderBangladesh/\"\n",
    "if \"//videos\" in url:\n",
    "    pass\n",
    "else:\n",
    "    url = url+\"//videos\"\n",
    "driver.get(url)\n",
    "html = driver.page_source"
   ]
  },
  {
   "cell_type": "code",
   "execution_count": null,
   "metadata": {},
   "outputs": [],
   "source": [
    "soup = soup = BeautifulSoup(html, \"lxml\")\n",
    "videos_count_div = soup.find(\"div\", {\"class\": \"style-scope ytd-c4-tabbed-header-renderer\"})\n",
    "total_videos = int(videos_count_div.find(\"span\", {\"class\": \"style-scope yt-formatted-string\"}).text)"
   ]
  },
  {
   "cell_type": "code",
   "execution_count": null,
   "metadata": {},
   "outputs": [],
   "source": [
    "soup = BeautifulSoup(html, \"lxml\")\n",
    "videos_per_page = len(soup.find_all(\"div\", {\"id\": \"dismissible\"}))"
   ]
  },
  {
   "cell_type": "code",
   "execution_count": null,
   "metadata": {},
   "outputs": [],
   "source": []
  },
  {
   "cell_type": "markdown",
   "metadata": {},
   "source": []
  },
  {
   "cell_type": "code",
   "execution_count": null,
   "metadata": {},
   "outputs": [],
   "source": [
    "\n",
    "# Scroll down int(total_videos/videos_per_page) times to load all videos\n",
    "for i in range((total_videos/videos_per_page).__ceil__()):\n",
    "    time.sleep(3)\n",
    "    driver.find_element(By.TAG_NAME, (\"body\")).send_keys(Keys.END)\n",
    "\n",
    "# Extract HTML content from the page\n",
    "html = driver.page_source"
   ]
  },
  {
   "cell_type": "code",
   "execution_count": null,
   "metadata": {},
   "outputs": [],
   "source": [
    "\n",
    "# Parse HTML content using BeautifulSoup\n",
    "soup = BeautifulSoup(html, \"lxml\")\n",
    "videos = soup.find_all(\"div\", {\"id\": \"dismissible\"})\n"
   ]
  },
  {
   "cell_type": "code",
   "execution_count": null,
   "metadata": {},
   "outputs": [],
   "source": [
    "\n",
    "# Extract video information and store in a list\n",
    "data = [[\"Title\", \"Views\", \"Time\"]]\n",
    "for video in videos:\n",
    "    title = video.find(\"a\", {\"id\": \"video-title-link\"}).text\n",
    "    views_and_before = video.find_all(\"span\", {\"class\", \"inline-metadata-item style-scope ytd-video-meta-block\"})\n",
    "    views = views_and_before[0].text\n",
    "    before = views_and_before[1].text\n",
    "    data.append([title, views, before])"
   ]
  },
  {
   "cell_type": "code",
   "execution_count": null,
   "metadata": {},
   "outputs": [],
   "source": [
    "# Create a DataFrame from the extracted data\n",
    "data_frame = pd.DataFrame(data)"
   ]
  },
  {
   "cell_type": "code",
   "execution_count": null,
   "metadata": {},
   "outputs": [],
   "source": [
    "\n",
    "# Save the DataFrame to a CSV file\n",
    "data_frame.to_csv(\"information of every video on this channel.csv\", index=False, index_label=False)\n"
   ]
  }
 ],
 "metadata": {
  "kernelspec": {
   "display_name": "base",
   "language": "python",
   "name": "python3"
  },
  "language_info": {
   "codemirror_mode": {
    "name": "ipython",
    "version": 3
   },
   "file_extension": ".py",
   "mimetype": "text/x-python",
   "name": "python",
   "nbconvert_exporter": "python",
   "pygments_lexer": "ipython3",
   "version": "3.11.4"
  }
 },
 "nbformat": 4,
 "nbformat_minor": 2
}
